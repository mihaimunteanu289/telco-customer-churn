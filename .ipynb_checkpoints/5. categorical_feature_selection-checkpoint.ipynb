{
 "cells": [
  {
   "cell_type": "markdown",
   "id": "9cd204b5-c372-4a23-99dd-1c2c6923ca7d",
   "metadata": {},
   "source": [
    "### Import libraries"
   ]
  },
  {
   "cell_type": "code",
   "execution_count": 1,
   "id": "d13ceb17-5e51-4b20-92a1-20fc09c8efd3",
   "metadata": {},
   "outputs": [],
   "source": [
    "import scorecardpy as sc\n",
    "import pandas as pd\n",
    "import numpy as np\n",
    "import warnings\n",
    "import json\n",
    "\n",
    "from scipy.stats import chi2_contingency\n",
    "\n",
    "pd.set_option('display.float_format', '{:.6f}'.format)\n",
    "warnings.filterwarnings('ignore')"
   ]
  },
  {
   "cell_type": "markdown",
   "id": "78e49b5e-6a9a-457c-87dc-6d5a314665ac",
   "metadata": {},
   "source": [
    "### Read dataframe"
   ]
  },
  {
   "cell_type": "code",
   "execution_count": 2,
   "id": "cae0f287-fda8-43d2-bd13-37f93d9210cf",
   "metadata": {},
   "outputs": [],
   "source": [
    "df = pd.read_csv('data/train_set.csv')\n",
    "\n",
    "input_file = \"data/numerical_features.json\"\n",
    "\n",
    "with open(input_file, 'r') as f:\n",
    "    continuous_features = json.load(f)"
   ]
  },
  {
   "cell_type": "code",
   "execution_count": 3,
   "id": "93c3e314-60f9-4a8f-964c-d5c15ebe9820",
   "metadata": {},
   "outputs": [],
   "source": [
    "# Keep only continuous variables and the flag\n",
    "df_categorical = df.drop(continuous_features, axis=1).copy()"
   ]
  },
  {
   "cell_type": "markdown",
   "id": "23369a62-9e0d-4c64-ae24-3b8912f3ce07",
   "metadata": {},
   "source": [
    "### Calculate information values for each variable in order to see the predictive power"
   ]
  },
  {
   "cell_type": "code",
   "execution_count": 4,
   "id": "05e1d3ca-ee78-44d5-9bd1-f48a2ced80bf",
   "metadata": {},
   "outputs": [
    {
     "name": "stdout",
     "output_type": "stream",
     "text": [
      "[INFO] creating woe binning ...\n"
     ]
    }
   ],
   "source": [
    "bins = sc.woebin(df_categorical, y='payment_delay')\n",
    "\n",
    "df_list = []\n",
    "for key, value in bins.items():\n",
    "    value['variables'] = key \n",
    "    df_list.append(value)\n",
    "\n",
    "df_iv = pd.concat(df_list, ignore_index=True)\n",
    "df_iv = df_iv[['variables', 'total_iv']]\n",
    "df_iv = df_iv.drop_duplicates().sort_values('total_iv', ascending=False).reset_index(drop=True)\n",
    "df_iv.to_csv('data/iv.csv', index=False)"
   ]
  },
  {
   "cell_type": "markdown",
   "id": "bbaa9979-5db8-4ddf-9e0d-7077069e5226",
   "metadata": {},
   "source": [
    "- IV < 0.02: No predictive power\n",
    "- 0.02 ≤ IV < 0.1: Weak predictive power\n",
    "- 0.1 ≤ IV < 0.3: Medium predictive power\n",
    "- IV ≥ 0.3: Strong predictive powe"
   ]
  },
  {
   "cell_type": "code",
   "execution_count": 5,
   "id": "cb1aae10-70ab-46fb-a024-1d7a8f9599d6",
   "metadata": {},
   "outputs": [
    {
     "data": {
      "text/html": [
       "<div>\n",
       "<style scoped>\n",
       "    .dataframe tbody tr th:only-of-type {\n",
       "        vertical-align: middle;\n",
       "    }\n",
       "\n",
       "    .dataframe tbody tr th {\n",
       "        vertical-align: top;\n",
       "    }\n",
       "\n",
       "    .dataframe thead th {\n",
       "        text-align: right;\n",
       "    }\n",
       "</style>\n",
       "<table border=\"1\" class=\"dataframe\">\n",
       "  <thead>\n",
       "    <tr style=\"text-align: right;\">\n",
       "      <th></th>\n",
       "      <th>variables</th>\n",
       "      <th>total_iv</th>\n",
       "    </tr>\n",
       "  </thead>\n",
       "  <tbody>\n",
       "    <tr>\n",
       "      <th>0</th>\n",
       "      <td>international_plan</td>\n",
       "      <td>0.379098</td>\n",
       "    </tr>\n",
       "    <tr>\n",
       "      <th>1</th>\n",
       "      <td>voice_mail_plan</td>\n",
       "      <td>0.116535</td>\n",
       "    </tr>\n",
       "    <tr>\n",
       "      <th>2</th>\n",
       "      <td>state_freq_encoded</td>\n",
       "      <td>0.027384</td>\n",
       "    </tr>\n",
       "    <tr>\n",
       "      <th>3</th>\n",
       "      <td>area_code_area_code_510</td>\n",
       "      <td>0.005778</td>\n",
       "    </tr>\n",
       "    <tr>\n",
       "      <th>4</th>\n",
       "      <td>area_code_area_code_408</td>\n",
       "      <td>0.002885</td>\n",
       "    </tr>\n",
       "    <tr>\n",
       "      <th>5</th>\n",
       "      <td>area_code_area_code_415</td>\n",
       "      <td>0.000452</td>\n",
       "    </tr>\n",
       "  </tbody>\n",
       "</table>\n",
       "</div>"
      ],
      "text/plain": [
       "                 variables  total_iv\n",
       "0       international_plan  0.379098\n",
       "1          voice_mail_plan  0.116535\n",
       "2       state_freq_encoded  0.027384\n",
       "3  area_code_area_code_510  0.005778\n",
       "4  area_code_area_code_408  0.002885\n",
       "5  area_code_area_code_415  0.000452"
      ]
     },
     "execution_count": 5,
     "metadata": {},
     "output_type": "execute_result"
    }
   ],
   "source": [
    "df_iv"
   ]
  },
  {
   "cell_type": "markdown",
   "id": "f8101d90-23c1-4ea9-a02f-fd89cc9efb92",
   "metadata": {},
   "source": [
    "### Chi-Square Test"
   ]
  },
  {
   "cell_type": "code",
   "execution_count": 6,
   "id": "ff15425d-a15a-49ff-9a85-9fd269d4d90b",
   "metadata": {},
   "outputs": [],
   "source": [
    "target_var = 'payment_delay'\n",
    "categorical_vars = list(df_categorical.drop('payment_delay', axis=1))\n",
    "\n",
    "results = []"
   ]
  },
  {
   "cell_type": "code",
   "execution_count": 7,
   "id": "d108904e-5df8-40c4-bbcb-c1b1efd6bd90",
   "metadata": {},
   "outputs": [],
   "source": [
    "for var in categorical_vars:\n",
    "    contingency_table = pd.crosstab(df_categorical[var], df_categorical[target_var])\n",
    "    \n",
    "    # Perform the Chi-Square Test\n",
    "    chi2, p, _, _ = chi2_contingency(contingency_table)\n",
    "    \n",
    "    # Calculate Cramér's V\n",
    "    n = contingency_table.sum().sum()\n",
    "    phi2 = chi2/n\n",
    "    r, k = contingency_table.shape\n",
    "    cramers_v = np.sqrt(phi2 / (min(k-1, r-1)))\n",
    "    \n",
    "    results.append([var, chi2, cramers_v, p])\n",
    "\n",
    "results_df = pd.DataFrame(results, columns=['variables', 'chi-Square', 'cramers_V', 'p-value'])\n",
    "results_df = results_df.sort_values('p-value').reset_index(drop=True)\n",
    "results_df.to_csv('data/chi_square.csv', index=False)"
   ]
  },
  {
   "cell_type": "code",
   "execution_count": 8,
   "id": "e216aeee-f270-4a35-8661-676476abf381",
   "metadata": {},
   "outputs": [
    {
     "data": {
      "text/html": [
       "<div>\n",
       "<style scoped>\n",
       "    .dataframe tbody tr th:only-of-type {\n",
       "        vertical-align: middle;\n",
       "    }\n",
       "\n",
       "    .dataframe tbody tr th {\n",
       "        vertical-align: top;\n",
       "    }\n",
       "\n",
       "    .dataframe thead th {\n",
       "        text-align: right;\n",
       "    }\n",
       "</style>\n",
       "<table border=\"1\" class=\"dataframe\">\n",
       "  <thead>\n",
       "    <tr style=\"text-align: right;\">\n",
       "      <th></th>\n",
       "      <th>variables</th>\n",
       "      <th>chi-Square</th>\n",
       "      <th>cramers_V</th>\n",
       "      <th>p-value</th>\n",
       "    </tr>\n",
       "  </thead>\n",
       "  <tbody>\n",
       "    <tr>\n",
       "      <th>0</th>\n",
       "      <td>international_plan</td>\n",
       "      <td>195.164743</td>\n",
       "      <td>0.255059</td>\n",
       "      <td>0.000000</td>\n",
       "    </tr>\n",
       "    <tr>\n",
       "      <th>1</th>\n",
       "      <td>voice_mail_plan</td>\n",
       "      <td>34.384006</td>\n",
       "      <td>0.107058</td>\n",
       "      <td>0.000000</td>\n",
       "    </tr>\n",
       "    <tr>\n",
       "      <th>2</th>\n",
       "      <td>state_freq_encoded</td>\n",
       "      <td>40.481928</td>\n",
       "      <td>0.116164</td>\n",
       "      <td>0.046153</td>\n",
       "    </tr>\n",
       "    <tr>\n",
       "      <th>3</th>\n",
       "      <td>area_code_area_code_510</td>\n",
       "      <td>1.945206</td>\n",
       "      <td>0.025464</td>\n",
       "      <td>0.163104</td>\n",
       "    </tr>\n",
       "    <tr>\n",
       "      <th>4</th>\n",
       "      <td>area_code_area_code_408</td>\n",
       "      <td>0.885552</td>\n",
       "      <td>0.017181</td>\n",
       "      <td>0.346686</td>\n",
       "    </tr>\n",
       "    <tr>\n",
       "      <th>5</th>\n",
       "      <td>area_code_area_code_415</td>\n",
       "      <td>0.121093</td>\n",
       "      <td>0.006353</td>\n",
       "      <td>0.727853</td>\n",
       "    </tr>\n",
       "  </tbody>\n",
       "</table>\n",
       "</div>"
      ],
      "text/plain": [
       "                 variables  chi-Square  cramers_V  p-value\n",
       "0       international_plan  195.164743   0.255059 0.000000\n",
       "1          voice_mail_plan   34.384006   0.107058 0.000000\n",
       "2       state_freq_encoded   40.481928   0.116164 0.046153\n",
       "3  area_code_area_code_510    1.945206   0.025464 0.163104\n",
       "4  area_code_area_code_408    0.885552   0.017181 0.346686\n",
       "5  area_code_area_code_415    0.121093   0.006353 0.727853"
      ]
     },
     "execution_count": 8,
     "metadata": {},
     "output_type": "execute_result"
    }
   ],
   "source": [
    "results_df"
   ]
  },
  {
   "cell_type": "code",
   "execution_count": null,
   "id": "255db373-4419-4dd8-8879-5b065357732b",
   "metadata": {},
   "outputs": [],
   "source": []
  }
 ],
 "metadata": {
  "kernelspec": {
   "display_name": "Python 3 (ipykernel)",
   "language": "python",
   "name": "python3"
  },
  "language_info": {
   "codemirror_mode": {
    "name": "ipython",
    "version": 3
   },
   "file_extension": ".py",
   "mimetype": "text/x-python",
   "name": "python",
   "nbconvert_exporter": "python",
   "pygments_lexer": "ipython3",
   "version": "3.10.8"
  }
 },
 "nbformat": 4,
 "nbformat_minor": 5
}
