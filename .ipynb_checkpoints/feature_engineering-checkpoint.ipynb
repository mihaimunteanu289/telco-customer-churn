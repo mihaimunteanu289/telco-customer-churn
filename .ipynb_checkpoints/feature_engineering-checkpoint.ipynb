{
 "cells": [
  {
   "cell_type": "markdown",
   "id": "e476da7e-9854-4609-a292-7f8af933a5c5",
   "metadata": {},
   "source": [
    "### Import libraries"
   ]
  },
  {
   "cell_type": "code",
   "execution_count": 177,
   "id": "2265ae6c-5f19-4f77-86a9-8e06552ae6de",
   "metadata": {},
   "outputs": [],
   "source": [
    "import pandas as pd\n",
    "\n",
    "pd.set_option('display.max_columns', None)"
   ]
  },
  {
   "cell_type": "markdown",
   "id": "0e9cddca-fe68-4af7-80d1-64774d0f575f",
   "metadata": {},
   "source": [
    "### Read datasets"
   ]
  },
  {
   "cell_type": "code",
   "execution_count": 178,
   "id": "9ec3d0d6-2774-4f53-bb60-6428480143ec",
   "metadata": {},
   "outputs": [],
   "source": [
    "train_df = pd.read_csv('data/train_set.csv')\n",
    "valid_df = pd.read_csv('data/valid_set.csv')\n",
    "vif_removed = pd.read_csv('data/vif_removed.csv')"
   ]
  },
  {
   "cell_type": "code",
   "execution_count": 179,
   "id": "26b565e4-e86e-4765-949b-f8ff37d5cb63",
   "metadata": {},
   "outputs": [],
   "source": [
    "# Remove variables with VIF > 15 and the target encoded categorical feature\n",
    "vif_removed_vars = vif_removed['variables'].to_list()\n",
    "train_df.drop(['state_target_encoded'] + vif_removed_vars, axis=1, inplace=True)\n",
    "valid_df.drop(['state_target_encoded'] + vif_removed_vars, axis=1, inplace=True)"
   ]
  },
  {
   "cell_type": "markdown",
   "id": "5b7d8940-e664-412d-8646-134e6c4767d3",
   "metadata": {},
   "source": [
    "### Feature engineering"
   ]
  },
  {
   "cell_type": "markdown",
   "id": "85bdba4a-3c72-4b5e-a141-007a23aece38",
   "metadata": {},
   "source": [
    "##### Interaction features"
   ]
  },
  {
   "cell_type": "code",
   "execution_count": 180,
   "id": "95d1e3b2-78c6-4d51-8a77-1652b939efed",
   "metadata": {},
   "outputs": [],
   "source": [
    "def convert_minutes_to_hours(df):\n",
    "    cols = [col for col in df.columns if 'minutes' in col]\n",
    "    \n",
    "    for col in cols:\n",
    "        df[col + '_in_hours'] = df[col] / 60.0\n",
    "\n",
    "    return df"
   ]
  },
  {
   "cell_type": "code",
   "execution_count": 181,
   "id": "eeb23039-b0f2-4bdb-ae20-546980eb812c",
   "metadata": {},
   "outputs": [],
   "source": [
    "dfs = [train_df, valid_df]\n",
    "for df in dfs:\n",
    "    # Total amount of time spent\n",
    "    df['total_minutes'] = df['total_day_minutes'] + df['total_eve_minutes']\n",
    "    # Examine if the customer is more active during the day or evening\n",
    "    df['day_eve_ratio'] = df['total_day_minutes'] / df['total_eve_minutes']\n",
    "    # Ratio of international call time to the total call time\n",
    "    df['intl_ratio'] = df['total_intl_minutes'] / df['total_minutes']\n",
    "    # Identify if having both plans or a specific plan impacts the 'payment_delay'\n",
    "    df['both_plans'] = df.apply(lambda row: 1 if row['international_plan'] == 1 and row['voice_mail_plan'] == 1 else 0, axis=1)\n",
    "    # Identify whether having a plan affects the number of customer service calls\n",
    "    df['service_calls_with_intl_plan'] = df['number_customer_service_calls'] * df['international_plan']\n",
    "    df['service_calls_with_vmail_plan'] = df['number_customer_service_calls'] * df['voice_mail_plan']\n",
    "    # Convert minutes to hours\n",
    "    df = convert_minutes_to_hours(df)"
   ]
  },
  {
   "cell_type": "code",
   "execution_count": null,
   "id": "6536141c-89b7-4231-be0d-dbded680296f",
   "metadata": {},
   "outputs": [],
   "source": []
  }
 ],
 "metadata": {
  "kernelspec": {
   "display_name": "Python 3 (ipykernel)",
   "language": "python",
   "name": "python3"
  },
  "language_info": {
   "codemirror_mode": {
    "name": "ipython",
    "version": 3
   },
   "file_extension": ".py",
   "mimetype": "text/x-python",
   "name": "python",
   "nbconvert_exporter": "python",
   "pygments_lexer": "ipython3",
   "version": "3.10.8"
  }
 },
 "nbformat": 4,
 "nbformat_minor": 5
}
