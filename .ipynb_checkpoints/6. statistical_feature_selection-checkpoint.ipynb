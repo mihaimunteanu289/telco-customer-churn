{
 "cells": [
  {
   "cell_type": "markdown",
   "id": "71c123c3-d6ce-4620-88ca-8c4bb25ad6e9",
   "metadata": {},
   "source": [
    "### Import libraries"
   ]
  },
  {
   "cell_type": "code",
   "execution_count": 14,
   "id": "0396802c-cd6e-4b0b-ae02-dd6651c7d2a8",
   "metadata": {},
   "outputs": [],
   "source": [
    "import matplotlib.pyplot as plt\n",
    "import seaborn as sns\n",
    "import pandas as pd\n",
    "import numpy as np\n",
    "\n",
    "from sklearn.metrics import confusion_matrix, f1_score, classification_report, precision_recall_curve\n",
    "from sklearn.model_selection import train_test_split\n",
    "from lazypredict.Supervised import LazyClassifier\n",
    "from lightgbm import LGBMClassifier"
   ]
  },
  {
   "cell_type": "markdown",
   "id": "40eec9f3-cf2a-4cba-8e11-29872c006c40",
   "metadata": {},
   "source": [
    "### Read datasets"
   ]
  },
  {
   "cell_type": "code",
   "execution_count": 15,
   "id": "8b65880f-1511-473f-aab6-bf739e902063",
   "metadata": {},
   "outputs": [],
   "source": [
    "df = pd.read_csv('data/train_set.csv')\n",
    "vif_df = pd.read_csv('data/vif.csv')\n",
    "iv_df = pd.read_csv('data/iv.csv')\n",
    "chi_df = pd.read_csv('data/chi_square.csv')\n",
    "\n",
    "vif_remove = list(vif_df[vif_df['VIF'] > 15]['variables'])\n",
    "iv_remove = list(iv_df[iv_df['total_iv'] < 0.02]['variables'])\n",
    "chi_remove = list(chi_df[chi_df['p-value'] > 0.05]['variables'])"
   ]
  },
  {
   "cell_type": "code",
   "execution_count": 16,
   "id": "d86c22bb-3975-447b-bb89-cd689054e9e4",
   "metadata": {},
   "outputs": [
    {
     "data": {
      "text/plain": [
       "['area_code_area_code_510',\n",
       " 'area_code_area_code_408',\n",
       " 'area_code_area_code_415']"
      ]
     },
     "execution_count": 16,
     "metadata": {},
     "output_type": "execute_result"
    }
   ],
   "source": [
    "iv_remove"
   ]
  },
  {
   "cell_type": "code",
   "execution_count": 17,
   "id": "d0b3c0e3-7af1-495e-9f98-238b7b6756c9",
   "metadata": {},
   "outputs": [
    {
     "data": {
      "text/plain": [
       "['area_code_area_code_510',\n",
       " 'area_code_area_code_408',\n",
       " 'area_code_area_code_415']"
      ]
     },
     "execution_count": 17,
     "metadata": {},
     "output_type": "execute_result"
    }
   ],
   "source": [
    "chi_remove"
   ]
  },
  {
   "cell_type": "markdown",
   "id": "b08f4194-c2ae-430e-99c3-2e648b958c48",
   "metadata": {},
   "source": [
    "Looks like we got the same conclusions by applying both IV and Chi-Square Test"
   ]
  },
  {
   "cell_type": "code",
   "execution_count": 18,
   "id": "aca037c9-bb81-4dd9-8946-dfdc87543dc7",
   "metadata": {},
   "outputs": [],
   "source": [
    "vars_to_remove = vif_remove + iv_remove"
   ]
  },
  {
   "cell_type": "markdown",
   "id": "3f7cc482-9978-4e38-9b77-f29c3db920e7",
   "metadata": {},
   "source": [
    "Drop the weak predictors"
   ]
  },
  {
   "cell_type": "code",
   "execution_count": 19,
   "id": "01de223e-6b33-47f8-87e7-f8209d5ddaff",
   "metadata": {},
   "outputs": [],
   "source": [
    "df.drop(vars_to_remove, axis=1, inplace=True)\n",
    "df.to_csv('data/train_set_selected.csv', index=False)"
   ]
  },
  {
   "cell_type": "markdown",
   "id": "01a77ebe-d8d3-4e73-850a-b62f982284f7",
   "metadata": {},
   "source": [
    "### Train-Test split"
   ]
  },
  {
   "cell_type": "code",
   "execution_count": 7,
   "id": "635fdf89-1591-43d7-ae6a-70b9e56ce537",
   "metadata": {},
   "outputs": [],
   "source": [
    "train = df.iloc[:2600, :]\n",
    "valid = df.iloc[2600:, :]\n",
    "\n",
    "X_train = train.drop('payment_delay', axis=1)\n",
    "y_train = train['payment_delay']\n",
    "\n",
    "X_valid = valid.drop('payment_delay', axis=1)\n",
    "y_valid = valid['payment_delay']"
   ]
  },
  {
   "cell_type": "markdown",
   "id": "e26e12e9-13ea-4c70-afb0-fc817aa622b2",
   "metadata": {},
   "source": [
    "### Define the lazy classifier"
   ]
  },
  {
   "cell_type": "code",
   "execution_count": 8,
   "id": "aa128be7-bf7b-4df5-b672-9f97fedd38e8",
   "metadata": {},
   "outputs": [
    {
     "name": "stderr",
     "output_type": "stream",
     "text": [
      "100%|██████████████████████████████████████████████████████████████████████████████████| 29/29 [00:04<00:00,  6.24it/s]\n"
     ]
    },
    {
     "data": {
      "text/html": [
       "<div>\n",
       "<style scoped>\n",
       "    .dataframe tbody tr th:only-of-type {\n",
       "        vertical-align: middle;\n",
       "    }\n",
       "\n",
       "    .dataframe tbody tr th {\n",
       "        vertical-align: top;\n",
       "    }\n",
       "\n",
       "    .dataframe thead th {\n",
       "        text-align: right;\n",
       "    }\n",
       "</style>\n",
       "<table border=\"1\" class=\"dataframe\">\n",
       "  <thead>\n",
       "    <tr style=\"text-align: right;\">\n",
       "      <th></th>\n",
       "      <th>Accuracy</th>\n",
       "      <th>Balanced Accuracy</th>\n",
       "      <th>ROC AUC</th>\n",
       "      <th>F1 Score</th>\n",
       "      <th>f1_score</th>\n",
       "      <th>Time Taken</th>\n",
       "    </tr>\n",
       "    <tr>\n",
       "      <th>Model</th>\n",
       "      <th></th>\n",
       "      <th></th>\n",
       "      <th></th>\n",
       "      <th></th>\n",
       "      <th></th>\n",
       "      <th></th>\n",
       "    </tr>\n",
       "  </thead>\n",
       "  <tbody>\n",
       "    <tr>\n",
       "      <th>LGBMClassifier</th>\n",
       "      <td>0.97</td>\n",
       "      <td>0.90</td>\n",
       "      <td>0.90</td>\n",
       "      <td>0.97</td>\n",
       "      <td>0.89</td>\n",
       "      <td>0.09</td>\n",
       "    </tr>\n",
       "    <tr>\n",
       "      <th>XGBClassifier</th>\n",
       "      <td>0.97</td>\n",
       "      <td>0.89</td>\n",
       "      <td>0.89</td>\n",
       "      <td>0.97</td>\n",
       "      <td>0.87</td>\n",
       "      <td>0.44</td>\n",
       "    </tr>\n",
       "    <tr>\n",
       "      <th>RandomForestClassifier</th>\n",
       "      <td>0.96</td>\n",
       "      <td>0.88</td>\n",
       "      <td>0.88</td>\n",
       "      <td>0.96</td>\n",
       "      <td>0.85</td>\n",
       "      <td>0.75</td>\n",
       "    </tr>\n",
       "    <tr>\n",
       "      <th>BaggingClassifier</th>\n",
       "      <td>0.95</td>\n",
       "      <td>0.87</td>\n",
       "      <td>0.87</td>\n",
       "      <td>0.95</td>\n",
       "      <td>0.82</td>\n",
       "      <td>0.20</td>\n",
       "    </tr>\n",
       "    <tr>\n",
       "      <th>DecisionTreeClassifier</th>\n",
       "      <td>0.93</td>\n",
       "      <td>0.86</td>\n",
       "      <td>0.86</td>\n",
       "      <td>0.93</td>\n",
       "      <td>0.74</td>\n",
       "      <td>0.11</td>\n",
       "    </tr>\n",
       "    <tr>\n",
       "      <th>SVC</th>\n",
       "      <td>0.94</td>\n",
       "      <td>0.78</td>\n",
       "      <td>0.78</td>\n",
       "      <td>0.93</td>\n",
       "      <td>0.71</td>\n",
       "      <td>0.15</td>\n",
       "    </tr>\n",
       "    <tr>\n",
       "      <th>ExtraTreesClassifier</th>\n",
       "      <td>0.94</td>\n",
       "      <td>0.76</td>\n",
       "      <td>0.76</td>\n",
       "      <td>0.93</td>\n",
       "      <td>0.68</td>\n",
       "      <td>0.53</td>\n",
       "    </tr>\n",
       "    <tr>\n",
       "      <th>QuadraticDiscriminantAnalysis</th>\n",
       "      <td>0.90</td>\n",
       "      <td>0.77</td>\n",
       "      <td>0.77</td>\n",
       "      <td>0.90</td>\n",
       "      <td>0.61</td>\n",
       "      <td>0.04</td>\n",
       "    </tr>\n",
       "    <tr>\n",
       "      <th>KNeighborsClassifier</th>\n",
       "      <td>0.91</td>\n",
       "      <td>0.69</td>\n",
       "      <td>0.69</td>\n",
       "      <td>0.90</td>\n",
       "      <td>0.55</td>\n",
       "      <td>0.06</td>\n",
       "    </tr>\n",
       "    <tr>\n",
       "      <th>GaussianNB</th>\n",
       "      <td>0.90</td>\n",
       "      <td>0.72</td>\n",
       "      <td>0.72</td>\n",
       "      <td>0.89</td>\n",
       "      <td>0.54</td>\n",
       "      <td>0.02</td>\n",
       "    </tr>\n",
       "    <tr>\n",
       "      <th>ExtraTreeClassifier</th>\n",
       "      <td>0.88</td>\n",
       "      <td>0.72</td>\n",
       "      <td>0.72</td>\n",
       "      <td>0.87</td>\n",
       "      <td>0.52</td>\n",
       "      <td>0.03</td>\n",
       "    </tr>\n",
       "    <tr>\n",
       "      <th>NearestCentroid</th>\n",
       "      <td>0.80</td>\n",
       "      <td>0.79</td>\n",
       "      <td>0.79</td>\n",
       "      <td>0.83</td>\n",
       "      <td>0.51</td>\n",
       "      <td>0.01</td>\n",
       "    </tr>\n",
       "    <tr>\n",
       "      <th>LabelPropagation</th>\n",
       "      <td>0.88</td>\n",
       "      <td>0.70</td>\n",
       "      <td>0.70</td>\n",
       "      <td>0.87</td>\n",
       "      <td>0.50</td>\n",
       "      <td>0.37</td>\n",
       "    </tr>\n",
       "    <tr>\n",
       "      <th>LabelSpreading</th>\n",
       "      <td>0.87</td>\n",
       "      <td>0.69</td>\n",
       "      <td>0.69</td>\n",
       "      <td>0.87</td>\n",
       "      <td>0.48</td>\n",
       "      <td>0.38</td>\n",
       "    </tr>\n",
       "    <tr>\n",
       "      <th>AdaBoostClassifier</th>\n",
       "      <td>0.89</td>\n",
       "      <td>0.67</td>\n",
       "      <td>0.67</td>\n",
       "      <td>0.88</td>\n",
       "      <td>0.48</td>\n",
       "      <td>0.25</td>\n",
       "    </tr>\n",
       "    <tr>\n",
       "      <th>LinearDiscriminantAnalysis</th>\n",
       "      <td>0.89</td>\n",
       "      <td>0.64</td>\n",
       "      <td>0.64</td>\n",
       "      <td>0.87</td>\n",
       "      <td>0.42</td>\n",
       "      <td>0.03</td>\n",
       "    </tr>\n",
       "    <tr>\n",
       "      <th>Perceptron</th>\n",
       "      <td>0.82</td>\n",
       "      <td>0.58</td>\n",
       "      <td>0.58</td>\n",
       "      <td>0.81</td>\n",
       "      <td>0.28</td>\n",
       "      <td>0.02</td>\n",
       "    </tr>\n",
       "    <tr>\n",
       "      <th>LogisticRegression</th>\n",
       "      <td>0.88</td>\n",
       "      <td>0.57</td>\n",
       "      <td>0.57</td>\n",
       "      <td>0.84</td>\n",
       "      <td>0.25</td>\n",
       "      <td>0.03</td>\n",
       "    </tr>\n",
       "    <tr>\n",
       "      <th>CalibratedClassifierCV</th>\n",
       "      <td>0.87</td>\n",
       "      <td>0.57</td>\n",
       "      <td>0.57</td>\n",
       "      <td>0.84</td>\n",
       "      <td>0.24</td>\n",
       "      <td>0.82</td>\n",
       "    </tr>\n",
       "    <tr>\n",
       "      <th>LinearSVC</th>\n",
       "      <td>0.88</td>\n",
       "      <td>0.56</td>\n",
       "      <td>0.56</td>\n",
       "      <td>0.84</td>\n",
       "      <td>0.22</td>\n",
       "      <td>0.11</td>\n",
       "    </tr>\n",
       "    <tr>\n",
       "      <th>BernoulliNB</th>\n",
       "      <td>0.87</td>\n",
       "      <td>0.55</td>\n",
       "      <td>0.55</td>\n",
       "      <td>0.83</td>\n",
       "      <td>0.19</td>\n",
       "      <td>0.02</td>\n",
       "    </tr>\n",
       "    <tr>\n",
       "      <th>RidgeClassifier</th>\n",
       "      <td>0.87</td>\n",
       "      <td>0.54</td>\n",
       "      <td>0.54</td>\n",
       "      <td>0.83</td>\n",
       "      <td>0.16</td>\n",
       "      <td>0.02</td>\n",
       "    </tr>\n",
       "    <tr>\n",
       "      <th>RidgeClassifierCV</th>\n",
       "      <td>0.87</td>\n",
       "      <td>0.54</td>\n",
       "      <td>0.54</td>\n",
       "      <td>0.83</td>\n",
       "      <td>0.16</td>\n",
       "      <td>0.02</td>\n",
       "    </tr>\n",
       "    <tr>\n",
       "      <th>SGDClassifier</th>\n",
       "      <td>0.87</td>\n",
       "      <td>0.52</td>\n",
       "      <td>0.52</td>\n",
       "      <td>0.82</td>\n",
       "      <td>0.07</td>\n",
       "      <td>0.02</td>\n",
       "    </tr>\n",
       "    <tr>\n",
       "      <th>PassiveAggressiveClassifier</th>\n",
       "      <td>0.86</td>\n",
       "      <td>0.51</td>\n",
       "      <td>0.51</td>\n",
       "      <td>0.81</td>\n",
       "      <td>0.04</td>\n",
       "      <td>0.02</td>\n",
       "    </tr>\n",
       "    <tr>\n",
       "      <th>DummyClassifier</th>\n",
       "      <td>0.87</td>\n",
       "      <td>0.50</td>\n",
       "      <td>0.50</td>\n",
       "      <td>0.81</td>\n",
       "      <td>0.00</td>\n",
       "      <td>0.03</td>\n",
       "    </tr>\n",
       "  </tbody>\n",
       "</table>\n",
       "</div>"
      ],
      "text/plain": [
       "                               Accuracy  Balanced Accuracy  ROC AUC  F1 Score  \\\n",
       "Model                                                                           \n",
       "LGBMClassifier                     0.97               0.90     0.90      0.97   \n",
       "XGBClassifier                      0.97               0.89     0.89      0.97   \n",
       "RandomForestClassifier             0.96               0.88     0.88      0.96   \n",
       "BaggingClassifier                  0.95               0.87     0.87      0.95   \n",
       "DecisionTreeClassifier             0.93               0.86     0.86      0.93   \n",
       "SVC                                0.94               0.78     0.78      0.93   \n",
       "ExtraTreesClassifier               0.94               0.76     0.76      0.93   \n",
       "QuadraticDiscriminantAnalysis      0.90               0.77     0.77      0.90   \n",
       "KNeighborsClassifier               0.91               0.69     0.69      0.90   \n",
       "GaussianNB                         0.90               0.72     0.72      0.89   \n",
       "ExtraTreeClassifier                0.88               0.72     0.72      0.87   \n",
       "NearestCentroid                    0.80               0.79     0.79      0.83   \n",
       "LabelPropagation                   0.88               0.70     0.70      0.87   \n",
       "LabelSpreading                     0.87               0.69     0.69      0.87   \n",
       "AdaBoostClassifier                 0.89               0.67     0.67      0.88   \n",
       "LinearDiscriminantAnalysis         0.89               0.64     0.64      0.87   \n",
       "Perceptron                         0.82               0.58     0.58      0.81   \n",
       "LogisticRegression                 0.88               0.57     0.57      0.84   \n",
       "CalibratedClassifierCV             0.87               0.57     0.57      0.84   \n",
       "LinearSVC                          0.88               0.56     0.56      0.84   \n",
       "BernoulliNB                        0.87               0.55     0.55      0.83   \n",
       "RidgeClassifier                    0.87               0.54     0.54      0.83   \n",
       "RidgeClassifierCV                  0.87               0.54     0.54      0.83   \n",
       "SGDClassifier                      0.87               0.52     0.52      0.82   \n",
       "PassiveAggressiveClassifier        0.86               0.51     0.51      0.81   \n",
       "DummyClassifier                    0.87               0.50     0.50      0.81   \n",
       "\n",
       "                               f1_score  Time Taken  \n",
       "Model                                                \n",
       "LGBMClassifier                     0.89        0.09  \n",
       "XGBClassifier                      0.87        0.44  \n",
       "RandomForestClassifier             0.85        0.75  \n",
       "BaggingClassifier                  0.82        0.20  \n",
       "DecisionTreeClassifier             0.74        0.11  \n",
       "SVC                                0.71        0.15  \n",
       "ExtraTreesClassifier               0.68        0.53  \n",
       "QuadraticDiscriminantAnalysis      0.61        0.04  \n",
       "KNeighborsClassifier               0.55        0.06  \n",
       "GaussianNB                         0.54        0.02  \n",
       "ExtraTreeClassifier                0.52        0.03  \n",
       "NearestCentroid                    0.51        0.01  \n",
       "LabelPropagation                   0.50        0.37  \n",
       "LabelSpreading                     0.48        0.38  \n",
       "AdaBoostClassifier                 0.48        0.25  \n",
       "LinearDiscriminantAnalysis         0.42        0.03  \n",
       "Perceptron                         0.28        0.02  \n",
       "LogisticRegression                 0.25        0.03  \n",
       "CalibratedClassifierCV             0.24        0.82  \n",
       "LinearSVC                          0.22        0.11  \n",
       "BernoulliNB                        0.19        0.02  \n",
       "RidgeClassifier                    0.16        0.02  \n",
       "RidgeClassifierCV                  0.16        0.02  \n",
       "SGDClassifier                      0.07        0.02  \n",
       "PassiveAggressiveClassifier        0.04        0.02  \n",
       "DummyClassifier                    0.00        0.03  "
      ]
     },
     "execution_count": 8,
     "metadata": {},
     "output_type": "execute_result"
    }
   ],
   "source": [
    "clf = LazyClassifier(verbose=0, ignore_warnings=True, custom_metric=f1_score)\n",
    "models, predictions = clf.fit(X_train, X_valid, y_train, y_valid)\n",
    "models.sort_values('f1_score', ascending=False, inplace=True)\n",
    "models"
   ]
  },
  {
   "cell_type": "markdown",
   "id": "b2141624-f83f-4c63-8488-b7f1bd3b1c6d",
   "metadata": {},
   "source": [
    "Looks like LGBM has the best performance. We will proceed with this model further in order to calculate the confusion matrix and the related metrics."
   ]
  },
  {
   "cell_type": "markdown",
   "id": "480e022f-f5a9-4530-ac57-028bbe1b6b8c",
   "metadata": {},
   "source": [
    "### Fit LGBM model"
   ]
  },
  {
   "cell_type": "code",
   "execution_count": 9,
   "id": "49557eb1-5534-4de5-b2c5-0892038e8bdd",
   "metadata": {},
   "outputs": [
    {
     "data": {
      "text/html": [
       "<style>#sk-container-id-1 {color: black;background-color: white;}#sk-container-id-1 pre{padding: 0;}#sk-container-id-1 div.sk-toggleable {background-color: white;}#sk-container-id-1 label.sk-toggleable__label {cursor: pointer;display: block;width: 100%;margin-bottom: 0;padding: 0.3em;box-sizing: border-box;text-align: center;}#sk-container-id-1 label.sk-toggleable__label-arrow:before {content: \"▸\";float: left;margin-right: 0.25em;color: #696969;}#sk-container-id-1 label.sk-toggleable__label-arrow:hover:before {color: black;}#sk-container-id-1 div.sk-estimator:hover label.sk-toggleable__label-arrow:before {color: black;}#sk-container-id-1 div.sk-toggleable__content {max-height: 0;max-width: 0;overflow: hidden;text-align: left;background-color: #f0f8ff;}#sk-container-id-1 div.sk-toggleable__content pre {margin: 0.2em;color: black;border-radius: 0.25em;background-color: #f0f8ff;}#sk-container-id-1 input.sk-toggleable__control:checked~div.sk-toggleable__content {max-height: 200px;max-width: 100%;overflow: auto;}#sk-container-id-1 input.sk-toggleable__control:checked~label.sk-toggleable__label-arrow:before {content: \"▾\";}#sk-container-id-1 div.sk-estimator input.sk-toggleable__control:checked~label.sk-toggleable__label {background-color: #d4ebff;}#sk-container-id-1 div.sk-label input.sk-toggleable__control:checked~label.sk-toggleable__label {background-color: #d4ebff;}#sk-container-id-1 input.sk-hidden--visually {border: 0;clip: rect(1px 1px 1px 1px);clip: rect(1px, 1px, 1px, 1px);height: 1px;margin: -1px;overflow: hidden;padding: 0;position: absolute;width: 1px;}#sk-container-id-1 div.sk-estimator {font-family: monospace;background-color: #f0f8ff;border: 1px dotted black;border-radius: 0.25em;box-sizing: border-box;margin-bottom: 0.5em;}#sk-container-id-1 div.sk-estimator:hover {background-color: #d4ebff;}#sk-container-id-1 div.sk-parallel-item::after {content: \"\";width: 100%;border-bottom: 1px solid gray;flex-grow: 1;}#sk-container-id-1 div.sk-label:hover label.sk-toggleable__label {background-color: #d4ebff;}#sk-container-id-1 div.sk-serial::before {content: \"\";position: absolute;border-left: 1px solid gray;box-sizing: border-box;top: 0;bottom: 0;left: 50%;z-index: 0;}#sk-container-id-1 div.sk-serial {display: flex;flex-direction: column;align-items: center;background-color: white;padding-right: 0.2em;padding-left: 0.2em;position: relative;}#sk-container-id-1 div.sk-item {position: relative;z-index: 1;}#sk-container-id-1 div.sk-parallel {display: flex;align-items: stretch;justify-content: center;background-color: white;position: relative;}#sk-container-id-1 div.sk-item::before, #sk-container-id-1 div.sk-parallel-item::before {content: \"\";position: absolute;border-left: 1px solid gray;box-sizing: border-box;top: 0;bottom: 0;left: 50%;z-index: -1;}#sk-container-id-1 div.sk-parallel-item {display: flex;flex-direction: column;z-index: 1;position: relative;background-color: white;}#sk-container-id-1 div.sk-parallel-item:first-child::after {align-self: flex-end;width: 50%;}#sk-container-id-1 div.sk-parallel-item:last-child::after {align-self: flex-start;width: 50%;}#sk-container-id-1 div.sk-parallel-item:only-child::after {width: 0;}#sk-container-id-1 div.sk-dashed-wrapped {border: 1px dashed gray;margin: 0 0.4em 0.5em 0.4em;box-sizing: border-box;padding-bottom: 0.4em;background-color: white;}#sk-container-id-1 div.sk-label label {font-family: monospace;font-weight: bold;display: inline-block;line-height: 1.2em;}#sk-container-id-1 div.sk-label-container {text-align: center;}#sk-container-id-1 div.sk-container {/* jupyter's `normalize.less` sets `[hidden] { display: none; }` but bootstrap.min.css set `[hidden] { display: none !important; }` so we also need the `!important` here to be able to override the default hidden behavior on the sphinx rendered scikit-learn.org. See: https://github.com/scikit-learn/scikit-learn/issues/21755 */display: inline-block !important;position: relative;}#sk-container-id-1 div.sk-text-repr-fallback {display: none;}</style><div id=\"sk-container-id-1\" class=\"sk-top-container\"><div class=\"sk-text-repr-fallback\"><pre>LGBMClassifier(class_weight=&#x27;balanced&#x27;, random_state=42)</pre><b>In a Jupyter environment, please rerun this cell to show the HTML representation or trust the notebook. <br />On GitHub, the HTML representation is unable to render, please try loading this page with nbviewer.org.</b></div><div class=\"sk-container\" hidden><div class=\"sk-item\"><div class=\"sk-estimator sk-toggleable\"><input class=\"sk-toggleable__control sk-hidden--visually\" id=\"sk-estimator-id-1\" type=\"checkbox\" checked><label for=\"sk-estimator-id-1\" class=\"sk-toggleable__label sk-toggleable__label-arrow\">LGBMClassifier</label><div class=\"sk-toggleable__content\"><pre>LGBMClassifier(class_weight=&#x27;balanced&#x27;, random_state=42)</pre></div></div></div></div></div>"
      ],
      "text/plain": [
       "LGBMClassifier(class_weight='balanced', random_state=42)"
      ]
     },
     "execution_count": 9,
     "metadata": {},
     "output_type": "execute_result"
    }
   ],
   "source": [
    "model = LGBMClassifier(random_state=42, class_weight='balanced')\n",
    "model.fit(X_train, y_train)"
   ]
  },
  {
   "cell_type": "markdown",
   "id": "ba029141-b655-46fe-89d5-c3b9a6909b48",
   "metadata": {},
   "source": [
    "### Perform  predictions"
   ]
  },
  {
   "cell_type": "code",
   "execution_count": 10,
   "id": "2227a534-4ce8-4d3f-9afe-db98c7b2eef0",
   "metadata": {},
   "outputs": [],
   "source": [
    "y_proba = model.predict_proba(X_valid)\n",
    "precisions, recalls, thresholds = precision_recall_curve(y_valid, y_proba[:, 1])"
   ]
  },
  {
   "cell_type": "code",
   "execution_count": 11,
   "id": "9f9592ef-3083-4d90-ae19-eeb9ca675c70",
   "metadata": {},
   "outputs": [
    {
     "name": "stdout",
     "output_type": "stream",
     "text": [
      "Thresholds for 90% recall:  0.7819327531198477\n"
     ]
    }
   ],
   "source": [
    "threshold_90_recall = thresholds[np.argmax(recalls <= 0.85)]\n",
    "print(\"Thresholds for 90% recall: \", threshold_90_recall)\n",
    "\n",
    "y_pred = (y_proba[:, 1] >= threshold_90_recall).astype(int)\n",
    "report = classification_report(y_valid, y_pred, zero_division=1)"
   ]
  },
  {
   "cell_type": "markdown",
   "id": "c3684996-17bb-47cf-a692-e6bf356a1c6e",
   "metadata": {},
   "source": [
    "### Generate confusion matrix"
   ]
  },
  {
   "cell_type": "code",
   "execution_count": 12,
   "id": "7f7142d9-501a-4d19-8c76-84412434c8da",
   "metadata": {},
   "outputs": [
    {
     "data": {
      "image/png": "[encoded data removed]",
      "text/plain": [
       "<Figure size 600x400 with 2 Axes>"
      ]
     },
     "metadata": {},
     "output_type": "display_data"
    }
   ],
   "source": [
    "cf_matrix = confusion_matrix(y_valid, y_pred)\n",
    "\n",
    "plt.figure(figsize=(6, 4))\n",
    "sns.heatmap(cf_matrix, cmap='Blues', annot=True, fmt='g')\n",
    "plt.xlabel('Predicted')\n",
    "plt.ylabel('Actual')\n",
    "plt.title('Confusion Matrix')\n",
    "plt.show()"
   ]
  },
  {
   "cell_type": "markdown",
   "id": "26a3d189-a588-451c-9ff2-74dc61d92652",
   "metadata": {},
   "source": [
    "### Generate classification report"
   ]
  },
  {
   "cell_type": "code",
   "execution_count": 13,
   "id": "71813408-3a1d-406e-9b2b-191d674df6a7",
   "metadata": {},
   "outputs": [
    {
     "name": "stdout",
     "output_type": "stream",
     "text": [
      "              precision    recall  f1-score   support\n",
      "\n",
      "           0       0.98      1.00      0.99       347\n",
      "           1       0.98      0.85      0.91        53\n",
      "\n",
      "    accuracy                           0.98       400\n",
      "   macro avg       0.98      0.92      0.95       400\n",
      "weighted avg       0.98      0.98      0.98       400\n",
      "\n"
     ]
    }
   ],
   "source": [
    "report = classification_report(y_valid, y_pred)\n",
    "print(report)"
   ]
  },
  {
   "cell_type": "code",
   "execution_count": null,
   "id": "d1adfae6-eb8a-4c3c-8751-0f484e41a547",
   "metadata": {},
   "outputs": [],
   "source": []
  }
 ],
 "metadata": {
  "kernelspec": {
   "display_name": "Python 3 (ipykernel)",
   "language": "python",
   "name": "python3"
  },
  "language_info": {
   "codemirror_mode": {
    "name": "ipython",
    "version": 3
   },
   "file_extension": ".py",
   "mimetype": "text/x-python",
   "name": "python",
   "nbconvert_exporter": "python",
   "pygments_lexer": "ipython3",
   "version": "3.10.8"
  }
 },
 "nbformat": 4,
 "nbformat_minor": 5
}
