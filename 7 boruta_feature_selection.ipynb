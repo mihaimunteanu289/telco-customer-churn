{
 "cells": [
  {
   "cell_type": "markdown",
   "id": "71c123c3-d6ce-4620-88ca-8c4bb25ad6e9",
   "metadata": {},
   "source": [
    "### Import libraries"
   ]
  },
  {
   "cell_type": "code",
   "execution_count": 1,
   "id": "0396802c-cd6e-4b0b-ae02-dd6651c7d2a8",
   "metadata": {},
   "outputs": [],
   "source": [
    "import matplotlib.pyplot as plt\n",
    "import seaborn as sns\n",
    "import pandas as pd\n",
    "import numpy as np\n",
    "\n",
    "from sklearn.metrics import confusion_matrix, f1_score, classification_report, precision_recall_curve\n",
    "from sklearn.model_selection import train_test_split\n",
    "from sklearn.ensemble import RandomForestClassifier\n",
    "from lightgbm import LGBMClassifier\n",
    "from boruta import BorutaPy"
   ]
  },
  {
   "cell_type": "markdown",
   "id": "40eec9f3-cf2a-4cba-8e11-29872c006c40",
   "metadata": {},
   "source": [
    "### Read dataset"
   ]
  },
  {
   "cell_type": "code",
   "execution_count": 2,
   "id": "8b65880f-1511-473f-aab6-bf739e902063",
   "metadata": {},
   "outputs": [],
   "source": [
    "df = pd.read_csv('data/train_set.csv')"
   ]
  },
  {
   "cell_type": "markdown",
   "id": "01a77ebe-d8d3-4e73-850a-b62f982284f7",
   "metadata": {},
   "source": [
    "### Train-Test split"
   ]
  },
  {
   "cell_type": "code",
   "execution_count": 3,
   "id": "635fdf89-1591-43d7-ae6a-70b9e56ce537",
   "metadata": {},
   "outputs": [],
   "source": [
    "train = df.iloc[:2600, :]\n",
    "valid = df.iloc[2600:, :]\n",
    "\n",
    "X_train = train.drop('payment_delay', axis=1)\n",
    "y_train = train['payment_delay']\n",
    "\n",
    "X_valid = valid.drop('payment_delay', axis=1)\n",
    "y_valid = valid['payment_delay']"
   ]
  },
  {
   "cell_type": "markdown",
   "id": "1f752414-8c4d-41fd-a487-2f68cbb9b7b7",
   "metadata": {},
   "source": [
    "### Apply Boruta"
   ]
  },
  {
   "cell_type": "code",
   "execution_count": 4,
   "id": "667a7f3d-8b79-404a-9020-eab67237fd97",
   "metadata": {},
   "outputs": [
    {
     "name": "stdout",
     "output_type": "stream",
     "text": [
      "Iteration: 1 / 35\n",
      "Iteration: 2 / 35\n",
      "Iteration: 3 / 35\n",
      "Iteration: 4 / 35\n",
      "Iteration: 5 / 35\n",
      "Iteration: 6 / 35\n",
      "Iteration: 7 / 35\n",
      "Iteration: 8 / 35\n",
      "Iteration: 9 / 35\n",
      "Iteration: 10 / 35\n",
      "Iteration: 11 / 35\n",
      "Iteration: 12 / 35\n",
      "Iteration: 13 / 35\n",
      "Iteration: 14 / 35\n",
      "Iteration: 15 / 35\n",
      "Iteration: 16 / 35\n",
      "Iteration: 17 / 35\n",
      "Iteration: 18 / 35\n",
      "Iteration: 19 / 35\n",
      "Iteration: 20 / 35\n",
      "Iteration: 21 / 35\n",
      "Iteration: 22 / 35\n",
      "Iteration: 23 / 35\n",
      "Iteration: 24 / 35\n",
      "\n",
      "\n",
      "BorutaPy finished running.\n",
      "\n",
      "Iteration: \t25 / 35\n",
      "Confirmed: \t12\n",
      "Tentative: \t0\n",
      "Rejected: \t9\n"
     ]
    }
   ],
   "source": [
    "forest = RandomForestClassifier(random_state=42, class_weight='balanced', n_jobs=-1)\n",
    "\n",
    "# Define Boruta feature selection method\n",
    "feat_selector = BorutaPy(forest, max_iter=35, n_estimators=100, alpha=0.1, perc=70, verbose=1, random_state=42)\n",
    "\n",
    "# Find all relevant features\n",
    "feat_selector.fit(X_train.values, y_train.values)\n",
    "\n",
    "features_bool = np.array(feat_selector.support_)\n",
    "features = np.array(X_train.columns)\n",
    "result = features[features_bool]\n",
    "\n",
    "# Transform the data\n",
    "X_train = X_train[result]\n",
    "X_valid = X_valid[result]"
   ]
  },
  {
   "cell_type": "markdown",
   "id": "480e022f-f5a9-4530-ac57-028bbe1b6b8c",
   "metadata": {},
   "source": [
    "### Fit LGBM model"
   ]
  },
  {
   "cell_type": "code",
   "execution_count": 5,
   "id": "abb4c366-f701-465e-9b87-86533d2c4300",
   "metadata": {},
   "outputs": [
    {
     "data": {
      "text/plain": [
       "array(['international_plan', 'number_vmail_messages', 'total_day_minutes',\n",
       "       'total_day_charge', 'total_eve_minutes', 'total_eve_charge',\n",
       "       'total_night_minutes', 'total_night_charge', 'total_intl_minutes',\n",
       "       'total_intl_calls', 'total_intl_charge',\n",
       "       'number_customer_service_calls'], dtype=object)"
      ]
     },
     "execution_count": 5,
     "metadata": {},
     "output_type": "execute_result"
    }
   ],
   "source": [
    "result"
   ]
  },
  {
   "cell_type": "code",
   "execution_count": 6,
   "id": "49557eb1-5534-4de5-b2c5-0892038e8bdd",
   "metadata": {},
   "outputs": [
    {
     "data": {
      "text/html": [
       "<style>#sk-container-id-1 {color: black;background-color: white;}#sk-container-id-1 pre{padding: 0;}#sk-container-id-1 div.sk-toggleable {background-color: white;}#sk-container-id-1 label.sk-toggleable__label {cursor: pointer;display: block;width: 100%;margin-bottom: 0;padding: 0.3em;box-sizing: border-box;text-align: center;}#sk-container-id-1 label.sk-toggleable__label-arrow:before {content: \"▸\";float: left;margin-right: 0.25em;color: #696969;}#sk-container-id-1 label.sk-toggleable__label-arrow:hover:before {color: black;}#sk-container-id-1 div.sk-estimator:hover label.sk-toggleable__label-arrow:before {color: black;}#sk-container-id-1 div.sk-toggleable__content {max-height: 0;max-width: 0;overflow: hidden;text-align: left;background-color: #f0f8ff;}#sk-container-id-1 div.sk-toggleable__content pre {margin: 0.2em;color: black;border-radius: 0.25em;background-color: #f0f8ff;}#sk-container-id-1 input.sk-toggleable__control:checked~div.sk-toggleable__content {max-height: 200px;max-width: 100%;overflow: auto;}#sk-container-id-1 input.sk-toggleable__control:checked~label.sk-toggleable__label-arrow:before {content: \"▾\";}#sk-container-id-1 div.sk-estimator input.sk-toggleable__control:checked~label.sk-toggleable__label {background-color: #d4ebff;}#sk-container-id-1 div.sk-label input.sk-toggleable__control:checked~label.sk-toggleable__label {background-color: #d4ebff;}#sk-container-id-1 input.sk-hidden--visually {border: 0;clip: rect(1px 1px 1px 1px);clip: rect(1px, 1px, 1px, 1px);height: 1px;margin: -1px;overflow: hidden;padding: 0;position: absolute;width: 1px;}#sk-container-id-1 div.sk-estimator {font-family: monospace;background-color: #f0f8ff;border: 1px dotted black;border-radius: 0.25em;box-sizing: border-box;margin-bottom: 0.5em;}#sk-container-id-1 div.sk-estimator:hover {background-color: #d4ebff;}#sk-container-id-1 div.sk-parallel-item::after {content: \"\";width: 100%;border-bottom: 1px solid gray;flex-grow: 1;}#sk-container-id-1 div.sk-label:hover label.sk-toggleable__label {background-color: #d4ebff;}#sk-container-id-1 div.sk-serial::before {content: \"\";position: absolute;border-left: 1px solid gray;box-sizing: border-box;top: 0;bottom: 0;left: 50%;z-index: 0;}#sk-container-id-1 div.sk-serial {display: flex;flex-direction: column;align-items: center;background-color: white;padding-right: 0.2em;padding-left: 0.2em;position: relative;}#sk-container-id-1 div.sk-item {position: relative;z-index: 1;}#sk-container-id-1 div.sk-parallel {display: flex;align-items: stretch;justify-content: center;background-color: white;position: relative;}#sk-container-id-1 div.sk-item::before, #sk-container-id-1 div.sk-parallel-item::before {content: \"\";position: absolute;border-left: 1px solid gray;box-sizing: border-box;top: 0;bottom: 0;left: 50%;z-index: -1;}#sk-container-id-1 div.sk-parallel-item {display: flex;flex-direction: column;z-index: 1;position: relative;background-color: white;}#sk-container-id-1 div.sk-parallel-item:first-child::after {align-self: flex-end;width: 50%;}#sk-container-id-1 div.sk-parallel-item:last-child::after {align-self: flex-start;width: 50%;}#sk-container-id-1 div.sk-parallel-item:only-child::after {width: 0;}#sk-container-id-1 div.sk-dashed-wrapped {border: 1px dashed gray;margin: 0 0.4em 0.5em 0.4em;box-sizing: border-box;padding-bottom: 0.4em;background-color: white;}#sk-container-id-1 div.sk-label label {font-family: monospace;font-weight: bold;display: inline-block;line-height: 1.2em;}#sk-container-id-1 div.sk-label-container {text-align: center;}#sk-container-id-1 div.sk-container {/* jupyter's `normalize.less` sets `[hidden] { display: none; }` but bootstrap.min.css set `[hidden] { display: none !important; }` so we also need the `!important` here to be able to override the default hidden behavior on the sphinx rendered scikit-learn.org. See: https://github.com/scikit-learn/scikit-learn/issues/21755 */display: inline-block !important;position: relative;}#sk-container-id-1 div.sk-text-repr-fallback {display: none;}</style><div id=\"sk-container-id-1\" class=\"sk-top-container\"><div class=\"sk-text-repr-fallback\"><pre>LGBMClassifier(class_weight=&#x27;balanced&#x27;, random_state=42)</pre><b>In a Jupyter environment, please rerun this cell to show the HTML representation or trust the notebook. <br />On GitHub, the HTML representation is unable to render, please try loading this page with nbviewer.org.</b></div><div class=\"sk-container\" hidden><div class=\"sk-item\"><div class=\"sk-estimator sk-toggleable\"><input class=\"sk-toggleable__control sk-hidden--visually\" id=\"sk-estimator-id-1\" type=\"checkbox\" checked><label for=\"sk-estimator-id-1\" class=\"sk-toggleable__label sk-toggleable__label-arrow\">LGBMClassifier</label><div class=\"sk-toggleable__content\"><pre>LGBMClassifier(class_weight=&#x27;balanced&#x27;, random_state=42)</pre></div></div></div></div></div>"
      ],
      "text/plain": [
       "LGBMClassifier(class_weight='balanced', random_state=42)"
      ]
     },
     "execution_count": 6,
     "metadata": {},
     "output_type": "execute_result"
    }
   ],
   "source": [
    "model = LGBMClassifier(random_state=42, class_weight='balanced')\n",
    "model.fit(X_train, y_train)"
   ]
  },
  {
   "cell_type": "markdown",
   "id": "ba029141-b655-46fe-89d5-c3b9a6909b48",
   "metadata": {},
   "source": [
    "### Perform  predictions"
   ]
  },
  {
   "cell_type": "code",
   "execution_count": 7,
   "id": "2227a534-4ce8-4d3f-9afe-db98c7b2eef0",
   "metadata": {},
   "outputs": [],
   "source": [
    "y_proba = model.predict_proba(X_valid)\n",
    "precisions, recalls, thresholds = precision_recall_curve(y_valid, y_proba[:, 1])"
   ]
  },
  {
   "cell_type": "code",
   "execution_count": 8,
   "id": "9f9592ef-3083-4d90-ae19-eeb9ca675c70",
   "metadata": {},
   "outputs": [
    {
     "name": "stdout",
     "output_type": "stream",
     "text": [
      "Thresholds for 90% recall:  0.8065816254997399\n"
     ]
    }
   ],
   "source": [
    "threshold_90_recall = thresholds[np.argmax(recalls <= 0.85)]\n",
    "print(\"Thresholds for 90% recall: \", threshold_90_recall)\n",
    "\n",
    "y_pred = (y_proba[:, 1] >= threshold_90_recall).astype(int)\n",
    "report = classification_report(y_valid, y_pred, zero_division=1)"
   ]
  },
  {
   "cell_type": "markdown",
   "id": "c3684996-17bb-47cf-a692-e6bf356a1c6e",
   "metadata": {},
   "source": [
    "### Generate confusion matrix"
   ]
  },
  {
   "cell_type": "code",
   "execution_count": 9,
   "id": "7f7142d9-501a-4d19-8c76-84412434c8da",
   "metadata": {},
   "outputs": [
    {
     "data": {
      "image/png": "[encoded data removed]",
      "text/plain": [
       "<Figure size 600x400 with 2 Axes>"
      ]
     },
     "metadata": {},
     "output_type": "display_data"
    }
   ],
   "source": [
    "cf_matrix = confusion_matrix(y_valid, y_pred)\n",
    "\n",
    "plt.figure(figsize=(6, 4))\n",
    "sns.heatmap(cf_matrix, cmap='Blues', annot=True, fmt='g')\n",
    "plt.xlabel('Predicted')\n",
    "plt.ylabel('Actual')\n",
    "plt.title('Confusion Matrix')\n",
    "plt.show()"
   ]
  },
  {
   "cell_type": "markdown",
   "id": "26a3d189-a588-451c-9ff2-74dc61d92652",
   "metadata": {},
   "source": [
    "### Generate classification report"
   ]
  },
  {
   "cell_type": "code",
   "execution_count": 10,
   "id": "71813408-3a1d-406e-9b2b-191d674df6a7",
   "metadata": {},
   "outputs": [
    {
     "name": "stdout",
     "output_type": "stream",
     "text": [
      "              precision    recall  f1-score   support\n",
      "\n",
      "           0       0.98      0.99      0.99       347\n",
      "           1       0.96      0.85      0.90        53\n",
      "\n",
      "    accuracy                           0.97       400\n",
      "   macro avg       0.97      0.92      0.94       400\n",
      "weighted avg       0.97      0.97      0.97       400\n",
      "\n"
     ]
    }
   ],
   "source": [
    "report = classification_report(y_valid, y_pred)\n",
    "print(report)"
   ]
  },
  {
   "cell_type": "code",
   "execution_count": null,
   "id": "d1adfae6-eb8a-4c3c-8751-0f484e41a547",
   "metadata": {},
   "outputs": [],
   "source": []
  }
 ],
 "metadata": {
  "kernelspec": {
   "display_name": "Python 3 (ipykernel)",
   "language": "python",
   "name": "python3"
  },
  "language_info": {
   "codemirror_mode": {
    "name": "ipython",
    "version": 3
   },
   "file_extension": ".py",
   "mimetype": "text/x-python",
   "name": "python",
   "nbconvert_exporter": "python",
   "pygments_lexer": "ipython3",
   "version": "3.10.8"
  }
 },
 "nbformat": 4,
 "nbformat_minor": 5
}
