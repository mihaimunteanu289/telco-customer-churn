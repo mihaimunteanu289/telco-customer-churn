{
 "cells": [
  {
   "cell_type": "markdown",
   "id": "71c123c3-d6ce-4620-88ca-8c4bb25ad6e9",
   "metadata": {},
   "source": [
    "### Import libraries"
   ]
  },
  {
   "cell_type": "code",
   "execution_count": 19,
   "id": "0396802c-cd6e-4b0b-ae02-dd6651c7d2a8",
   "metadata": {},
   "outputs": [],
   "source": [
    "import matplotlib.pyplot as plt\n",
    "import lightgbm as lgb\n",
    "import seaborn as sns\n",
    "import pandas as pd\n",
    "import numpy as np\n",
    "import optuna\n",
    "import json\n",
    "\n",
    "from sklearn.metrics import confusion_matrix, f1_score, classification_report, precision_recall_curve\n",
    "from sklearn.model_selection import train_test_split\n",
    "from lazypredict.Supervised import LazyClassifier\n",
    "from lightgbm import LGBMClassifier"
   ]
  },
  {
   "cell_type": "markdown",
   "id": "40eec9f3-cf2a-4cba-8e11-29872c006c40",
   "metadata": {},
   "source": [
    "### Read dataset"
   ]
  },
  {
   "cell_type": "code",
   "execution_count": 33,
   "id": "8b65880f-1511-473f-aab6-bf739e902063",
   "metadata": {},
   "outputs": [],
   "source": [
    "df = pd.read_csv('data/train_set_selected.csv')\n",
    "test = pd.read_csv('data/test_set.csv')\n",
    "test = test[df.columns].drop('payment_delay', axis=1).iloc[:300, :]"
   ]
  },
  {
   "cell_type": "markdown",
   "id": "b08f4194-c2ae-430e-99c3-2e648b958c48",
   "metadata": {},
   "source": [
    "Looks like we got the same conclusions by applying both IV and Chi-Square Test"
   ]
  },
  {
   "cell_type": "markdown",
   "id": "01a77ebe-d8d3-4e73-850a-b62f982284f7",
   "metadata": {},
   "source": [
    "### Train-Test split"
   ]
  },
  {
   "cell_type": "code",
   "execution_count": 3,
   "id": "635fdf89-1591-43d7-ae6a-70b9e56ce537",
   "metadata": {},
   "outputs": [],
   "source": [
    "train = df.iloc[:2600, :]\n",
    "valid = df.iloc[2600:, :]\n",
    "\n",
    "X_train = train.drop('payment_delay', axis=1)\n",
    "y_train = train['payment_delay']\n",
    "\n",
    "X_valid = valid.drop('payment_delay', axis=1)\n",
    "y_valid = valid['payment_delay']"
   ]
  },
  {
   "cell_type": "markdown",
   "id": "b2141624-f83f-4c63-8488-b7f1bd3b1c6d",
   "metadata": {},
   "source": [
    "Looks like LGBM has the best performance. We will proceed with this model further in order to calculate the confusion matrix and the related metrics."
   ]
  },
  {
   "cell_type": "markdown",
   "id": "4b1b785f-6cc0-4179-957e-60063f657732",
   "metadata": {},
   "source": [
    "### Hypertuning"
   ]
  },
  {
   "cell_type": "code",
   "execution_count": 4,
   "id": "3efe03ca-81b8-48da-914a-afc831063139",
   "metadata": {},
   "outputs": [],
   "source": [
    "def objective(trial):\n",
    "    # create the LightGBM model\n",
    "    gbm = lgb.LGBMClassifier(\n",
    "        n_estimators=trial.suggest_int('n_estimators', 100, 500),\n",
    "        learning_rate=trial.suggest_float('learning_rate', 1e-6, 1e-0),\n",
    "        num_leaves=trial.suggest_int('num_leaves', 2, 150),\n",
    "        max_depth=trial.suggest_int('max_depth', 1, 100),\n",
    "        subsample=trial.suggest_float('subsample', 0.01, 1.0),\n",
    "        colsample_bytree=trial.suggest_float('colsample_bytree', 0.01, 1.0),\n",
    "        reg_alpha=trial.suggest_float('reg_alpha', 0.01, 1),\n",
    "        reg_lambda=trial.suggest_float('reg_lambda', 1e-4, 1),\n",
    "        min_split_gain=trial.suggest_float('min_split_gain', 1e-9, 1e2),\n",
    "        random_state=42,\n",
    "        class_weight='balanced'\n",
    "    )\n",
    "\n",
    "    # fit the model\n",
    "    gbm.fit(X_train, y_train)\n",
    "    y_proba = gbm.predict_proba(X_valid)\n",
    "\n",
    "    # Compute precision, recall, and thresholds\n",
    "    precisions, recalls, thresholds = precision_recall_curve(y_valid, y_proba[:, 1])\n",
    "    \n",
    "    # Find the threshold that maximizes macro average F1\n",
    "    f1_scores = [f1_score(y_valid, (y_proba[:, 1] >= t).astype(int), average='macro') for t in thresholds]\n",
    "    best_idx = np.argmax(f1_scores)\n",
    "    threshold_max_f1 = thresholds[best_idx]\n",
    "\n",
    "    # Classify examples\n",
    "    y_pred = (y_proba[:, 1] >= threshold_max_f1).astype(int)\n",
    "\n",
    "    # calculate the f1 score\n",
    "    f1 = f1_score(y_valid, y_pred, average='macro')\n",
    "\n",
    "    # Save the threshold that maximizes F1\n",
    "    trial.set_user_attr('threshold_max_f1', threshold_max_f1)\n",
    "    return f1"
   ]
  },
  {
   "cell_type": "code",
   "execution_count": 5,
   "id": "afe42b98-c1a5-4ada-9092-1cd274bcf808",
   "metadata": {
    "tags": []
   },
   "outputs": [],
   "source": [
    "optuna.logging.set_verbosity(optuna.logging.WARNING)\n",
    "\n",
    "study = optuna.create_study(direction='maximize', \n",
    "                            sampler=optuna.samplers.TPESampler(multivariate=True), \n",
    "                            pruner=optuna.pruners.MedianPruner())\n",
    "\n",
    "study.optimize(objective, n_trials=5000, show_progress_bar=False)"
   ]
  },
  {
   "cell_type": "code",
   "execution_count": 21,
   "id": "1bbc6c31-6c40-4387-bb97-cc6d6cc4607c",
   "metadata": {},
   "outputs": [],
   "source": [
    "best_trial = study.best_trial\n",
    "params = study.best_params\n",
    "threshold = best_trial.user_attrs['threshold_max_f1']\n",
    "\n",
    "# Create a dictionary to store the parameters\n",
    "parameters = {\n",
    "    'params': params,\n",
    "    'threshold': threshold\n",
    "}\n",
    "\n",
    "# Save the parameters as JSON\n",
    "with open(f'parameters/best_params.json', 'w') as f:\n",
    "    json.dump(parameters, f)"
   ]
  },
  {
   "cell_type": "markdown",
   "id": "480e022f-f5a9-4530-ac57-028bbe1b6b8c",
   "metadata": {},
   "source": [
    "### Fit LGBM model"
   ]
  },
  {
   "cell_type": "code",
   "execution_count": 7,
   "id": "49557eb1-5534-4de5-b2c5-0892038e8bdd",
   "metadata": {},
   "outputs": [
    {
     "data": {
      "text/html": [
       "<style>#sk-container-id-1 {color: black;background-color: white;}#sk-container-id-1 pre{padding: 0;}#sk-container-id-1 div.sk-toggleable {background-color: white;}#sk-container-id-1 label.sk-toggleable__label {cursor: pointer;display: block;width: 100%;margin-bottom: 0;padding: 0.3em;box-sizing: border-box;text-align: center;}#sk-container-id-1 label.sk-toggleable__label-arrow:before {content: \"▸\";float: left;margin-right: 0.25em;color: #696969;}#sk-container-id-1 label.sk-toggleable__label-arrow:hover:before {color: black;}#sk-container-id-1 div.sk-estimator:hover label.sk-toggleable__label-arrow:before {color: black;}#sk-container-id-1 div.sk-toggleable__content {max-height: 0;max-width: 0;overflow: hidden;text-align: left;background-color: #f0f8ff;}#sk-container-id-1 div.sk-toggleable__content pre {margin: 0.2em;color: black;border-radius: 0.25em;background-color: #f0f8ff;}#sk-container-id-1 input.sk-toggleable__control:checked~div.sk-toggleable__content {max-height: 200px;max-width: 100%;overflow: auto;}#sk-container-id-1 input.sk-toggleable__control:checked~label.sk-toggleable__label-arrow:before {content: \"▾\";}#sk-container-id-1 div.sk-estimator input.sk-toggleable__control:checked~label.sk-toggleable__label {background-color: #d4ebff;}#sk-container-id-1 div.sk-label input.sk-toggleable__control:checked~label.sk-toggleable__label {background-color: #d4ebff;}#sk-container-id-1 input.sk-hidden--visually {border: 0;clip: rect(1px 1px 1px 1px);clip: rect(1px, 1px, 1px, 1px);height: 1px;margin: -1px;overflow: hidden;padding: 0;position: absolute;width: 1px;}#sk-container-id-1 div.sk-estimator {font-family: monospace;background-color: #f0f8ff;border: 1px dotted black;border-radius: 0.25em;box-sizing: border-box;margin-bottom: 0.5em;}#sk-container-id-1 div.sk-estimator:hover {background-color: #d4ebff;}#sk-container-id-1 div.sk-parallel-item::after {content: \"\";width: 100%;border-bottom: 1px solid gray;flex-grow: 1;}#sk-container-id-1 div.sk-label:hover label.sk-toggleable__label {background-color: #d4ebff;}#sk-container-id-1 div.sk-serial::before {content: \"\";position: absolute;border-left: 1px solid gray;box-sizing: border-box;top: 0;bottom: 0;left: 50%;z-index: 0;}#sk-container-id-1 div.sk-serial {display: flex;flex-direction: column;align-items: center;background-color: white;padding-right: 0.2em;padding-left: 0.2em;position: relative;}#sk-container-id-1 div.sk-item {position: relative;z-index: 1;}#sk-container-id-1 div.sk-parallel {display: flex;align-items: stretch;justify-content: center;background-color: white;position: relative;}#sk-container-id-1 div.sk-item::before, #sk-container-id-1 div.sk-parallel-item::before {content: \"\";position: absolute;border-left: 1px solid gray;box-sizing: border-box;top: 0;bottom: 0;left: 50%;z-index: -1;}#sk-container-id-1 div.sk-parallel-item {display: flex;flex-direction: column;z-index: 1;position: relative;background-color: white;}#sk-container-id-1 div.sk-parallel-item:first-child::after {align-self: flex-end;width: 50%;}#sk-container-id-1 div.sk-parallel-item:last-child::after {align-self: flex-start;width: 50%;}#sk-container-id-1 div.sk-parallel-item:only-child::after {width: 0;}#sk-container-id-1 div.sk-dashed-wrapped {border: 1px dashed gray;margin: 0 0.4em 0.5em 0.4em;box-sizing: border-box;padding-bottom: 0.4em;background-color: white;}#sk-container-id-1 div.sk-label label {font-family: monospace;font-weight: bold;display: inline-block;line-height: 1.2em;}#sk-container-id-1 div.sk-label-container {text-align: center;}#sk-container-id-1 div.sk-container {/* jupyter's `normalize.less` sets `[hidden] { display: none; }` but bootstrap.min.css set `[hidden] { display: none !important; }` so we also need the `!important` here to be able to override the default hidden behavior on the sphinx rendered scikit-learn.org. See: https://github.com/scikit-learn/scikit-learn/issues/21755 */display: inline-block !important;position: relative;}#sk-container-id-1 div.sk-text-repr-fallback {display: none;}</style><div id=\"sk-container-id-1\" class=\"sk-top-container\"><div class=\"sk-text-repr-fallback\"><pre>LGBMClassifier(class_weight=&#x27;balanced&#x27;, colsample_bytree=0.7795042516568873,\n",
       "               learning_rate=0.132749901412421, max_depth=36,\n",
       "               min_split_gain=0.25356940154959895, n_estimators=307,\n",
       "               num_leaves=74, random_state=42, reg_alpha=0.15386269106531952,\n",
       "               reg_lambda=0.615743009755497, subsample=0.6727186604334585)</pre><b>In a Jupyter environment, please rerun this cell to show the HTML representation or trust the notebook. <br />On GitHub, the HTML representation is unable to render, please try loading this page with nbviewer.org.</b></div><div class=\"sk-container\" hidden><div class=\"sk-item\"><div class=\"sk-estimator sk-toggleable\"><input class=\"sk-toggleable__control sk-hidden--visually\" id=\"sk-estimator-id-1\" type=\"checkbox\" checked><label for=\"sk-estimator-id-1\" class=\"sk-toggleable__label sk-toggleable__label-arrow\">LGBMClassifier</label><div class=\"sk-toggleable__content\"><pre>LGBMClassifier(class_weight=&#x27;balanced&#x27;, colsample_bytree=0.7795042516568873,\n",
       "               learning_rate=0.132749901412421, max_depth=36,\n",
       "               min_split_gain=0.25356940154959895, n_estimators=307,\n",
       "               num_leaves=74, random_state=42, reg_alpha=0.15386269106531952,\n",
       "               reg_lambda=0.615743009755497, subsample=0.6727186604334585)</pre></div></div></div></div></div>"
      ],
      "text/plain": [
       "LGBMClassifier(class_weight='balanced', colsample_bytree=0.7795042516568873,\n",
       "               learning_rate=0.132749901412421, max_depth=36,\n",
       "               min_split_gain=0.25356940154959895, n_estimators=307,\n",
       "               num_leaves=74, random_state=42, reg_alpha=0.15386269106531952,\n",
       "               reg_lambda=0.615743009755497, subsample=0.6727186604334585)"
      ]
     },
     "execution_count": 7,
     "metadata": {},
     "output_type": "execute_result"
    }
   ],
   "source": [
    "model = LGBMClassifier(**params, class_weight='balanced', random_state=42)\n",
    "model.fit(X_train, y_train)"
   ]
  },
  {
   "cell_type": "code",
   "execution_count": 15,
   "id": "20736c33-5a4c-4388-a7ae-9b24dfa549e5",
   "metadata": {},
   "outputs": [
    {
     "data": {
      "image/png": "[encoded data removed]",
      "text/plain": [
       "<Figure size 1000x800 with 1 Axes>"
      ]
     },
     "metadata": {},
     "output_type": "display_data"
    }
   ],
   "source": [
    "# Extract feature importance from the trained model\n",
    "feature_importance = model.feature_importances_\n",
    "\n",
    "# Calculate percentage importance\n",
    "total_importance = sum(feature_importance)\n",
    "percentage_importance = (feature_importance / total_importance) * 100\n",
    "\n",
    "# Create DataFrame for percentage importance\n",
    "feature_imp_df = pd.DataFrame({'Feature': X_train.columns, 'Importance': percentage_importance})\n",
    "\n",
    "# Sort DataFrame by importance\n",
    "feature_imp_df = feature_imp_df.sort_values('Importance', ascending=False)\n",
    "\n",
    "# Create a barplot\n",
    "plt.figure(figsize=(10, 8))\n",
    "sns.barplot(y='Feature', x='Importance', data=feature_imp_df)\n",
    "plt.title('Percentage Importance of Features (LightGBM Model)')\n",
    "plt.xlabel('Importance (%)')\n",
    "plt.ylabel('Features')\n",
    "plt.show()"
   ]
  },
  {
   "cell_type": "markdown",
   "id": "ba029141-b655-46fe-89d5-c3b9a6909b48",
   "metadata": {},
   "source": [
    "### Perform  predictions"
   ]
  },
  {
   "cell_type": "code",
   "execution_count": 8,
   "id": "2227a534-4ce8-4d3f-9afe-db98c7b2eef0",
   "metadata": {},
   "outputs": [],
   "source": [
    "y_proba = model.predict_proba(X_valid)\n",
    "precisions, recalls, thresholds = precision_recall_curve(y_valid, y_proba[:, 1])"
   ]
  },
  {
   "cell_type": "code",
   "execution_count": 9,
   "id": "9f9592ef-3083-4d90-ae19-eeb9ca675c70",
   "metadata": {},
   "outputs": [],
   "source": [
    "y_pred = (y_proba[:, 1] >= threshold).astype(int)\n",
    "report = classification_report(y_valid, y_pred, zero_division=1)"
   ]
  },
  {
   "cell_type": "markdown",
   "id": "c3684996-17bb-47cf-a692-e6bf356a1c6e",
   "metadata": {},
   "source": [
    "### Generate confusion matrix"
   ]
  },
  {
   "cell_type": "code",
   "execution_count": 10,
   "id": "7f7142d9-501a-4d19-8c76-84412434c8da",
   "metadata": {},
   "outputs": [
    {
     "data": {
      "image/png": "[encoded data removed]",
      "text/plain": [
       "<Figure size 600x400 with 2 Axes>"
      ]
     },
     "metadata": {},
     "output_type": "display_data"
    }
   ],
   "source": [
    "cf_matrix = confusion_matrix(y_valid, y_pred)\n",
    "\n",
    "plt.figure(figsize=(6, 4))\n",
    "sns.heatmap(cf_matrix, cmap='Blues', annot=True, fmt='g')\n",
    "plt.xlabel('Predicted')\n",
    "plt.ylabel('Actual')\n",
    "plt.title('Confusion Matrix')\n",
    "plt.show()"
   ]
  },
  {
   "cell_type": "markdown",
   "id": "26a3d189-a588-451c-9ff2-74dc61d92652",
   "metadata": {},
   "source": [
    "### Generate classification report"
   ]
  },
  {
   "cell_type": "code",
   "execution_count": 11,
   "id": "71813408-3a1d-406e-9b2b-191d674df6a7",
   "metadata": {},
   "outputs": [
    {
     "name": "stdout",
     "output_type": "stream",
     "text": [
      "              precision    recall  f1-score   support\n",
      "\n",
      "           0       0.98      1.00      0.99       347\n",
      "           1       1.00      0.89      0.94        53\n",
      "\n",
      "    accuracy                           0.98       400\n",
      "   macro avg       0.99      0.94      0.97       400\n",
      "weighted avg       0.99      0.98      0.98       400\n",
      "\n"
     ]
    }
   ],
   "source": [
    "report = classification_report(y_valid, y_pred)\n",
    "print(report)"
   ]
  },
  {
   "cell_type": "markdown",
   "id": "dd0d74c6-e562-46b1-9bee-d81acec29169",
   "metadata": {},
   "source": [
    "### Proceed with the predictions on test set"
   ]
  },
  {
   "cell_type": "code",
   "execution_count": 42,
   "id": "7ebd6418-a6ff-4b7f-bd75-77eab27be1d8",
   "metadata": {},
   "outputs": [],
   "source": [
    "y_test_proba = model.predict_proba(test)\n",
    "y_test_pred = (y_test_proba[:, 1] >= threshold).astype(int)"
   ]
  },
  {
   "cell_type": "code",
   "execution_count": 44,
   "id": "407ddb36-0876-497f-a140-a308c2a0beac",
   "metadata": {},
   "outputs": [],
   "source": [
    "prediction_df = pd.DataFrame({'payment_delay_prediction': y_test_pred})\n",
    "df_with_prediction = pd.concat([test, prediction_df], axis=1)"
   ]
  },
  {
   "cell_type": "code",
   "execution_count": 45,
   "id": "46c5b88c-a1ac-4b4a-ac44-3bbc460c8197",
   "metadata": {},
   "outputs": [
    {
     "data": {
      "text/html": [
       "<div>\n",
       "<style scoped>\n",
       "    .dataframe tbody tr th:only-of-type {\n",
       "        vertical-align: middle;\n",
       "    }\n",
       "\n",
       "    .dataframe tbody tr th {\n",
       "        vertical-align: top;\n",
       "    }\n",
       "\n",
       "    .dataframe thead th {\n",
       "        text-align: right;\n",
       "    }\n",
       "</style>\n",
       "<table border=\"1\" class=\"dataframe\">\n",
       "  <thead>\n",
       "    <tr style=\"text-align: right;\">\n",
       "      <th></th>\n",
       "      <th>account_length</th>\n",
       "      <th>international_plan</th>\n",
       "      <th>voice_mail_plan</th>\n",
       "      <th>number_vmail_messages</th>\n",
       "      <th>total_day_minutes</th>\n",
       "      <th>total_eve_minutes</th>\n",
       "      <th>total_night_charge</th>\n",
       "      <th>total_intl_minutes</th>\n",
       "      <th>total_intl_calls</th>\n",
       "      <th>number_customer_service_calls</th>\n",
       "      <th>state_freq_encoded</th>\n",
       "      <th>payment_delay_prediction</th>\n",
       "    </tr>\n",
       "  </thead>\n",
       "  <tbody>\n",
       "    <tr>\n",
       "      <th>0</th>\n",
       "      <td>36</td>\n",
       "      <td>0</td>\n",
       "      <td>1</td>\n",
       "      <td>30</td>\n",
       "      <td>146.30</td>\n",
       "      <td>162.50</td>\n",
       "      <td>5.82</td>\n",
       "      <td>14.50</td>\n",
       "      <td>6</td>\n",
       "      <td>0</td>\n",
       "      <td>0.01</td>\n",
       "      <td>0</td>\n",
       "    </tr>\n",
       "    <tr>\n",
       "      <th>1</th>\n",
       "      <td>104</td>\n",
       "      <td>0</td>\n",
       "      <td>0</td>\n",
       "      <td>0</td>\n",
       "      <td>278.40</td>\n",
       "      <td>81.00</td>\n",
       "      <td>7.34</td>\n",
       "      <td>9.80</td>\n",
       "      <td>5</td>\n",
       "      <td>1</td>\n",
       "      <td>0.01</td>\n",
       "      <td>0</td>\n",
       "    </tr>\n",
       "    <tr>\n",
       "      <th>2</th>\n",
       "      <td>126</td>\n",
       "      <td>0</td>\n",
       "      <td>0</td>\n",
       "      <td>0</td>\n",
       "      <td>58.20</td>\n",
       "      <td>138.70</td>\n",
       "      <td>6.16</td>\n",
       "      <td>11.90</td>\n",
       "      <td>1</td>\n",
       "      <td>5</td>\n",
       "      <td>0.01</td>\n",
       "      <td>1</td>\n",
       "    </tr>\n",
       "    <tr>\n",
       "      <th>3</th>\n",
       "      <td>130</td>\n",
       "      <td>0</td>\n",
       "      <td>0</td>\n",
       "      <td>0</td>\n",
       "      <td>242.50</td>\n",
       "      <td>102.80</td>\n",
       "      <td>6.41</td>\n",
       "      <td>9.30</td>\n",
       "      <td>2</td>\n",
       "      <td>2</td>\n",
       "      <td>0.01</td>\n",
       "      <td>0</td>\n",
       "    </tr>\n",
       "    <tr>\n",
       "      <th>4</th>\n",
       "      <td>78</td>\n",
       "      <td>0</td>\n",
       "      <td>0</td>\n",
       "      <td>0</td>\n",
       "      <td>190.30</td>\n",
       "      <td>194.50</td>\n",
       "      <td>11.54</td>\n",
       "      <td>11.70</td>\n",
       "      <td>5</td>\n",
       "      <td>2</td>\n",
       "      <td>0.01</td>\n",
       "      <td>0</td>\n",
       "    </tr>\n",
       "  </tbody>\n",
       "</table>\n",
       "</div>"
      ],
      "text/plain": [
       "   account_length  international_plan  voice_mail_plan  number_vmail_messages  \\\n",
       "0              36                   0                1                     30   \n",
       "1             104                   0                0                      0   \n",
       "2             126                   0                0                      0   \n",
       "3             130                   0                0                      0   \n",
       "4              78                   0                0                      0   \n",
       "\n",
       "   total_day_minutes  total_eve_minutes  total_night_charge  \\\n",
       "0             146.30             162.50                5.82   \n",
       "1             278.40              81.00                7.34   \n",
       "2              58.20             138.70                6.16   \n",
       "3             242.50             102.80                6.41   \n",
       "4             190.30             194.50               11.54   \n",
       "\n",
       "   total_intl_minutes  total_intl_calls  number_customer_service_calls  \\\n",
       "0               14.50                 6                              0   \n",
       "1                9.80                 5                              1   \n",
       "2               11.90                 1                              5   \n",
       "3                9.30                 2                              2   \n",
       "4               11.70                 5                              2   \n",
       "\n",
       "   state_freq_encoded  payment_delay_prediction  \n",
       "0                0.01                         0  \n",
       "1                0.01                         0  \n",
       "2                0.01                         1  \n",
       "3                0.01                         0  \n",
       "4                0.01                         0  "
      ]
     },
     "execution_count": 45,
     "metadata": {},
     "output_type": "execute_result"
    }
   ],
   "source": [
    "df_with_prediction.head(5)"
   ]
  },
  {
   "cell_type": "code",
   "execution_count": 46,
   "id": "336b0e4e-c357-46cc-bd28-6024fa292e1a",
   "metadata": {},
   "outputs": [
    {
     "data": {
      "text/plain": [
       "0   0.88\n",
       "1   0.12\n",
       "Name: payment_delay_prediction, dtype: float64"
      ]
     },
     "execution_count": 46,
     "metadata": {},
     "output_type": "execute_result"
    }
   ],
   "source": [
    "df_with_prediction.payment_delay_prediction.value_counts(dropna=False, normalize=True)"
   ]
  },
  {
   "cell_type": "code",
   "execution_count": 48,
   "id": "7de6badd-a987-4577-bf26-216be152f4a0",
   "metadata": {},
   "outputs": [
    {
     "data": {
      "text/plain": [
       "0   0.86\n",
       "1   0.14\n",
       "Name: payment_delay, dtype: float64"
      ]
     },
     "execution_count": 48,
     "metadata": {},
     "output_type": "execute_result"
    }
   ],
   "source": [
    "df.payment_delay.value_counts(dropna=False, normalize=True)"
   ]
  },
  {
   "cell_type": "markdown",
   "id": "5862e465-fbda-440f-9198-f8fdadf28408",
   "metadata": {},
   "source": [
    "It appears that we have very similar proportions between the two datasets. This suggests that we are on the right track and making good progress."
   ]
  },
  {
   "cell_type": "code",
   "execution_count": 50,
   "id": "5c5f0e2e-c36c-4e9a-b824-3aaf87f81da2",
   "metadata": {},
   "outputs": [],
   "source": [
    "df_with_prediction.to_csv('results/test_predictions.csv', index=False)"
   ]
  },
  {
   "cell_type": "code",
   "execution_count": null,
   "id": "40fee338-5f20-40a6-a69b-55453ef7704f",
   "metadata": {},
   "outputs": [],
   "source": []
  }
 ],
 "metadata": {
  "kernelspec": {
   "display_name": "Python 3 (ipykernel)",
   "language": "python",
   "name": "python3"
  },
  "language_info": {
   "codemirror_mode": {
    "name": "ipython",
    "version": 3
   },
   "file_extension": ".py",
   "mimetype": "text/x-python",
   "name": "python",
   "nbconvert_exporter": "python",
   "pygments_lexer": "ipython3",
   "version": "3.10.8"
  }
 },
 "nbformat": 4,
 "nbformat_minor": 5
}
