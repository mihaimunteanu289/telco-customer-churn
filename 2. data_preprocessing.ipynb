{
 "cells": [
  {
   "cell_type": "markdown",
   "id": "47063e7e-1a2c-4a60-91c4-9e0287697224",
   "metadata": {},
   "source": [
    "### Import libraries"
   ]
  },
  {
   "cell_type": "code",
   "execution_count": 1,
   "id": "351b92e3-18ba-4933-a624-ff32bc46bfe5",
   "metadata": {},
   "outputs": [],
   "source": [
    "import category_encoders as ce\n",
    "import pandas as pd\n",
    "import numpy as np\n",
    "import json\n",
    "\n",
    "from sklearn.model_selection import train_test_split\n",
    "\n",
    "pd.set_option('display.max_columns', None)"
   ]
  },
  {
   "cell_type": "markdown",
   "id": "10cd1219-ba92-47f2-81b7-781fb0729baa",
   "metadata": {},
   "source": [
    "### Read datasets"
   ]
  },
  {
   "cell_type": "code",
   "execution_count": 2,
   "id": "f2b33d90-febe-485e-91d5-50e25014eb6b",
   "metadata": {},
   "outputs": [],
   "source": [
    "train = pd.read_csv('data/train.csv')\n",
    "test = pd.read_csv('data/test.csv')\n",
    "\n",
    "df = pd.concat([train, test]).reset_index(drop=True)"
   ]
  },
  {
   "cell_type": "markdown",
   "id": "75cb6238-3d49-4476-94df-acffa067f548",
   "metadata": {},
   "source": [
    "### Check for features containing NaN's"
   ]
  },
  {
   "cell_type": "code",
   "execution_count": 3,
   "id": "ee3a8e94-1c96-4afd-a961-7437710ff6cf",
   "metadata": {},
   "outputs": [
    {
     "name": "stdout",
     "output_type": "stream",
     "text": [
      "Features containing NaN's: payment_delay\n"
     ]
    }
   ],
   "source": [
    "nan_features = df.columns[df.isna().any()].to_list()\n",
    "\n",
    "if len(nan_features) == 0:\n",
    "    print(\"There are no features containing NaN's\")\n",
    "else:\n",
    "    print(\"Features containing NaN's:\", *nan_features)"
   ]
  },
  {
   "cell_type": "markdown",
   "id": "8a96ef6e-dfbb-415a-93d3-c94f4dfb8470",
   "metadata": {},
   "source": [
    "The dataset is containing NaN's because test.csv is not containing this variable"
   ]
  },
  {
   "cell_type": "markdown",
   "id": "fa725705-72cb-4725-a3df-cd0a347d7f74",
   "metadata": {},
   "source": [
    "### Data preprocessing"
   ]
  },
  {
   "cell_type": "markdown",
   "id": "a5364978-3cfc-411c-8a16-023fee7a233d",
   "metadata": {},
   "source": [
    "##### constant features"
   ]
  },
  {
   "cell_type": "code",
   "execution_count": 4,
   "id": "dba79112-5b73-413b-bfb2-dc1cc7f1111d",
   "metadata": {},
   "outputs": [
    {
     "name": "stdout",
     "output_type": "stream",
     "text": [
      "There are no constant features\n"
     ]
    }
   ],
   "source": [
    "def get_constant_features(df):\n",
    "    constant_features = []\n",
    "    for column in df.columns:\n",
    "        if len(df[column].value_counts(dropna=False).index) <= 1:\n",
    "            constant_features.append(column)\n",
    "    return constant_features\n",
    "\n",
    "constant_features = get_constant_features(df)\n",
    "\n",
    "if len(constant_features) == 0:\n",
    "    print(\"There are no constant features\")\n",
    "else:\n",
    "    df.drop(constant_features, axis=1, inplace=True)\n",
    "    print(f\"{len(constant_features)} features were dropped\")"
   ]
  },
  {
   "cell_type": "markdown",
   "id": "f0e2210c-1f46-412e-b24f-5e47cd5d0722",
   "metadata": {},
   "source": [
    "##### numerical features"
   ]
  },
  {
   "cell_type": "code",
   "execution_count": 5,
   "id": "3a9c5e8f-3d2d-466a-aa30-af760412ef98",
   "metadata": {},
   "outputs": [
    {
     "name": "stdout",
     "output_type": "stream",
     "text": [
      "There are 15 numerical features in our dataframe\n"
     ]
    }
   ],
   "source": [
    "numerical_features = df.select_dtypes(include=np.number).columns.tolist()\n",
    "print(f\"There are {len(numerical_features)} numerical features in our dataframe\")"
   ]
  },
  {
   "cell_type": "code",
   "execution_count": 6,
   "id": "ae663ace-1ceb-4862-8c1a-9b9806f86d44",
   "metadata": {},
   "outputs": [],
   "source": [
    "output_file = \"data/numerical_features.json\"\n",
    "\n",
    "with open(output_file, 'w') as f:\n",
    "    json.dump(numerical_features, f)"
   ]
  },
  {
   "cell_type": "markdown",
   "id": "49248ef5-5c85-481e-8a8a-7fb8650ed62d",
   "metadata": {},
   "source": [
    "##### binary categorical features"
   ]
  },
  {
   "cell_type": "code",
   "execution_count": 7,
   "id": "e4f4296e-5ada-4d62-bf5f-9dfacdafcc80",
   "metadata": {},
   "outputs": [
    {
     "name": "stdout",
     "output_type": "stream",
     "text": [
      "Binary features: international_plan voice_mail_plan\n"
     ]
    }
   ],
   "source": [
    "def get_binary_features(df):\n",
    "    binary_features = []\n",
    "    for column in df.columns:\n",
    "        if len(df[column].value_counts(dropna=False).index) == 2:\n",
    "            binary_features.append(column)\n",
    "    return binary_features\n",
    "\n",
    "binary_features = get_binary_features(df)\n",
    "\n",
    "if len(binary_features) == 0:\n",
    "    print(\"There are no binary features\")\n",
    "else:\n",
    "    print(\"Binary features:\", *binary_features)"
   ]
  },
  {
   "cell_type": "code",
   "execution_count": 8,
   "id": "d3c54baf-dd04-4542-8f11-c9d4b004a5dc",
   "metadata": {},
   "outputs": [],
   "source": [
    "for i in binary_features:\n",
    "    df[i] = np.where(df[i] == 'no', 0, 1)"
   ]
  },
  {
   "cell_type": "markdown",
   "id": "21d55881-fc57-46b6-b6c7-362637d4d221",
   "metadata": {},
   "source": [
    "##### object features"
   ]
  },
  {
   "cell_type": "code",
   "execution_count": 9,
   "id": "31275548-c8ba-4953-a31a-864c36322cc5",
   "metadata": {},
   "outputs": [
    {
     "name": "stdout",
     "output_type": "stream",
     "text": [
      "Object features: state area_code\n"
     ]
    }
   ],
   "source": [
    "def get_object_features(df):\n",
    "    object_features = []\n",
    "    for column in df.columns:\n",
    "        if df[column].dtype  == 'object':\n",
    "            object_features.append(column)\n",
    "    return object_features\n",
    "\n",
    "object_features = get_object_features(df)\n",
    "# Remove payment_delay, it is an object because it contains NaN's also\n",
    "object_features.remove('payment_delay')\n",
    "\n",
    "if len(object_features) == 0:\n",
    "    print(\"There are no object features\")\n",
    "else:\n",
    "    print(\"Object features:\", *object_features)"
   ]
  },
  {
   "cell_type": "code",
   "execution_count": 10,
   "id": "d35feef7-b6a2-43ba-a92e-0022090130fc",
   "metadata": {},
   "outputs": [],
   "source": [
    "# We can proceed with one-hot encoding for area_code since this variable does not have a high cardinality\n",
    "area_code_encoded = pd.get_dummies(df['area_code'], prefix='area_code')\n",
    "df = pd.concat([df, area_code_encoded], axis=1)\n",
    "df.drop('area_code', axis=1, inplace=True)"
   ]
  },
  {
   "cell_type": "markdown",
   "id": "5b0fa1f8-9c45-4116-aa25-07fac998bbac",
   "metadata": {},
   "source": [
    "##### Split dataframes into training, validation and testing"
   ]
  },
  {
   "cell_type": "code",
   "execution_count": 11,
   "id": "819131bf-9552-4c69-8fdd-76e9a2be4347",
   "metadata": {},
   "outputs": [],
   "source": [
    "train_df_temp, test_df = train_test_split(df, test_size=0.4, shuffle=False)\n",
    "train_df, valid_df = train_test_split(train_df_temp, test_size=0.15, shuffle=True, random_state=42, stratify=train_df_temp['payment_delay'])\n",
    "\n",
    "dfs = [train_df, valid_df, test_df]"
   ]
  },
  {
   "cell_type": "code",
   "execution_count": 12,
   "id": "bb2b4827-0a98-4574-a454-f6d9bb289e2e",
   "metadata": {},
   "outputs": [],
   "source": [
    "# Frequency encoding and Target encoding for state variable because thee cardinality of this variable is pretty high\n",
    "count_enc = ce.CountEncoder(normalize=True)\n",
    "target_enc = ce.TargetEncoder(cols=['state'])\n",
    "\n",
    "train_df['state_freq_encoded'] = count_enc.fit_transform(train_df['state'])\n",
    "train_df.drop('state', axis=1, inplace=True)\n",
    "\n",
    "for df in dfs[1:]:\n",
    "    df['state_freq_encoded'] = count_enc.transform(df['state'])\n",
    "    df.drop('state', axis=1, inplace=True)"
   ]
  },
  {
   "cell_type": "code",
   "execution_count": 13,
   "id": "1ca30821-e9d6-49ce-8c77-c16c77b6b4ac",
   "metadata": {},
   "outputs": [],
   "source": [
    "train_set = pd.concat([train_df, valid_df]).reset_index(drop=True)"
   ]
  },
  {
   "cell_type": "markdown",
   "id": "142e2813-3904-4088-af29-d9365e69de0e",
   "metadata": {},
   "source": [
    "##### Convert dependent variable to numerical"
   ]
  },
  {
   "cell_type": "code",
   "execution_count": 14,
   "id": "76ca1135-187e-414d-ab73-a0476c5e21fd",
   "metadata": {},
   "outputs": [],
   "source": [
    "train_set['payment_delay'] = np.where(train_set['payment_delay'] == 'no', 0, 1)"
   ]
  },
  {
   "cell_type": "markdown",
   "id": "9ed2c3a4-d02b-4646-8450-6065a7653bc8",
   "metadata": {},
   "source": [
    "### Export preprocessed dataframes"
   ]
  },
  {
   "cell_type": "code",
   "execution_count": 15,
   "id": "3728ab70-1eba-47c0-abfb-73c5f2a250ea",
   "metadata": {},
   "outputs": [],
   "source": [
    "train_set.to_csv('data/train_set.csv', index=False)\n",
    "test_df.to_csv('data/test_set.csv', index=False)"
   ]
  },
  {
   "cell_type": "code",
   "execution_count": null,
   "id": "ae7f5ede-839e-48c1-9124-55373180e4ea",
   "metadata": {},
   "outputs": [],
   "source": []
  }
 ],
 "metadata": {
  "kernelspec": {
   "display_name": "Python 3 (ipykernel)",
   "language": "python",
   "name": "python3"
  },
  "language_info": {
   "codemirror_mode": {
    "name": "ipython",
    "version": 3
   },
   "file_extension": ".py",
   "mimetype": "text/x-python",
   "name": "python",
   "nbconvert_exporter": "python",
   "pygments_lexer": "ipython3",
   "version": "3.10.8"
  }
 },
 "nbformat": 4,
 "nbformat_minor": 5
}
